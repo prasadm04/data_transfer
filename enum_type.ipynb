{
 "cells": [
  {
   "cell_type": "code",
   "execution_count": null,
   "metadata": {},
   "outputs": [],
   "source": [
    "def create_enum_type(self, enum_name: str, values: list):\n",
    "    \"\"\"\n",
    "    Creates an ENUM type in PostgreSQL if it doesn't already exist.\n",
    "    \"\"\"\n",
    "    try:\n",
    "        # Check if ENUM already exists in pg_type\n",
    "        self.cur.execute(f\"SELECT 1 FROM pg_type WHERE typname = '{enum_name}'\")\n",
    "        if not self.cur.fetchone():\n",
    "            # Create ENUM type\n",
    "            values_str = \", \".join(f\"'{value}'\" for value in values)\n",
    "            self.cur.execute(f\"CREATE TYPE {enum_name} AS ENUM ({values_str})\")\n",
    "            self.conn.commit()\n",
    "            print(f\"ENUM {enum_name} created successfully\")\n",
    "    except Exception as e:\n",
    "        print(f\"Error creating ENUM {enum_name}: {e}\")\n",
    "        self.conn.rollback()\n",
    "\n",
    "def create_table(self, table_name: str, columns: Dict[str, str], enum_types: Dict[str, list]):\n",
    "    \"\"\"\n",
    "    Create a table with specified columns and ENUM types.\n",
    "    \n",
    "    Example:\n",
    "    create_table(\n",
    "        \"users\", \n",
    "        {\"id\": \"SERIAL PRIMARY KEY\", \"status\": \"status_enum\", \"role\": \"role_enum\"},\n",
    "        {\"status_enum\": [\"active\", \"inactive\", \"banned\"], \"role_enum\": [\"admin\", \"user\", \"guest\"]}\n",
    "    )\n",
    "    \"\"\"\n",
    "    try:\n",
    "        # Step 1: Create ENUM types if they don’t exist\n",
    "        for enum_name, values in enum_types.items():\n",
    "            self.create_enum_type(enum_name, values)\n",
    "\n",
    "        # Step 2: Construct table schema\n",
    "        columns_str = \", \".join([f\"{col} {dtype}\" for col, dtype in columns.items()])\n",
    "        create_query = f\"CREATE TABLE IF NOT EXISTS {table_name} ({columns_str});\"\n",
    "\n",
    "        # Step 3: Execute the query\n",
    "        self.cur.execute(create_query)\n",
    "        self.conn.commit()\n",
    "        print(f\"Table {table_name} created successfully\")\n",
    "    except Exception as e:\n",
    "        print(f\"Error creating table: {e}\")\n",
    "        self.conn.rollback()\n"
   ]
  }
 ],
 "metadata": {
  "language_info": {
   "name": "python"
  }
 },
 "nbformat": 4,
 "nbformat_minor": 2
}
